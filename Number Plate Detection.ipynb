{
 "cells": [
  {
   "cell_type": "markdown",
   "metadata": {},
   "source": [
    "# 🚗🔍 Number Plate Detection Using Pytesseract\n",
    "\n",
    "This notebook demonstrates a step-by-step process for detecting and extracting license plate text from vehicle images using **OpenCV** and **Pytesseract**. Let’s dive into the process! 🛠️"
   ]
  },
  {
   "cell_type": "markdown",
   "metadata": {},
   "source": [
    "### 📥 Importing Libraries"
   ]
  },
  {
   "cell_type": "code",
   "execution_count": 11,
   "metadata": {},
   "outputs": [],
   "source": [
    "import cv2  # For image processing 🖼️\n",
    "import imutils  # To resize images efficiently 🖌️\n",
    "import pytesseract  # For Optical Character Recognition (OCR) 🧠"
   ]
  },
  {
   "cell_type": "markdown",
   "metadata": {},
   "source": [
    "### ⚙️ Setting up Tesseract-OCR"
   ]
  },
  {
   "cell_type": "code",
   "execution_count": 12,
   "metadata": {},
   "outputs": [],
   "source": [
    "# Specify the path to the Tesseract-OCR executable (ensure this matches your system configuration)\n",
    "pytesseract.pytesseract.tesseract_cmd = r'C:\\Users\\91939\\Desktop\\AI&DS\\Data science projects\\Number Plate Detection'"
   ]
  },
  {
   "cell_type": "markdown",
   "metadata": {},
   "source": [
    "## 🌟 Step 1: Load and Display the Original Image\n",
    "\n",
    "Let’s start by loading the vehicle image and visualizing it. This is the input image for our pipeline. 🏎️\n"
   ]
  },
  {
   "cell_type": "code",
   "execution_count": null,
   "metadata": {},
   "outputs": [
    {
     "data": {
      "text/plain": [
       "13"
      ]
     },
     "execution_count": 13,
     "metadata": {},
     "output_type": "execute_result"
    }
   ],
   "source": [
    "# Load the image\n",
    "image = cv2.imread(r'C:\\Users\\91939\\Desktop\\AI&DS\\Data science projects\\Number Plate Detection\\Images\\sample.jpeg')\n",
    "\n",
    "# Resize the image to a manageable size\n",
    "resized_image = imutils.resize(image)\n",
    "\n",
    "# Display the original image 🖼️\n",
    "cv2.imshow('Original Image', image)\n",
    "cv2.waitKey(0)"
   ]
  },
  {
   "cell_type": "markdown",
   "metadata": {},
   "source": [
    "## 🎨 Step 2: Convert Image to Grayscale\n",
    "\n",
    "To simplify the processing, we convert the image to grayscale. This removes unnecessary color details and focuses on intensity values. 🎛️\n"
   ]
  },
  {
   "cell_type": "code",
   "execution_count": 14,
   "metadata": {},
   "outputs": [
    {
     "data": {
      "text/plain": [
       "13"
      ]
     },
     "execution_count": 14,
     "metadata": {},
     "output_type": "execute_result"
    }
   ],
   "source": [
    "# Convert the image to grayscale\n",
    "gray_image = cv2.cvtColor(image, cv2.COLOR_BGR2GRAY)\n",
    "\n",
    "# Display the grayscale image\n",
    "cv2.imshow(\"Grayscale Image\", gray_image)\n",
    "cv2.waitKey(0)\n"
   ]
  },
  {
   "cell_type": "markdown",
   "metadata": {},
   "source": [
    "## ✨ Step 3: Smooth the Image with a Bilateral Filter\n",
    "\n",
    "A bilateral filter helps to reduce noise while preserving edges, which is crucial for contour detection. 🧹"
   ]
  },
  {
   "cell_type": "code",
   "execution_count": 15,
   "metadata": {},
   "outputs": [
    {
     "data": {
      "text/plain": [
       "13"
      ]
     },
     "execution_count": 15,
     "metadata": {},
     "output_type": "execute_result"
    }
   ],
   "source": [
    "# Apply bilateral filtering for smoothening\n",
    "gray_image = cv2.bilateralFilter(gray_image, 11, 17, 17)\n",
    "\n",
    "# Display the smoothened image\n",
    "cv2.imshow(\"Smoothened Image\", gray_image)\n",
    "cv2.waitKey(0)"
   ]
  },
  {
   "cell_type": "markdown",
   "metadata": {},
   "source": [
    "## 🔍 Step 4: Detect Edges\n",
    "\n",
    "Using **Canny Edge Detection**, we highlight the edges in the image to identify boundaries. ⚡"
   ]
  },
  {
   "cell_type": "code",
   "execution_count": 16,
   "metadata": {},
   "outputs": [
    {
     "data": {
      "text/plain": [
       "13"
      ]
     },
     "execution_count": 16,
     "metadata": {},
     "output_type": "execute_result"
    }
   ],
   "source": [
    "# Apply edge detection\n",
    "edged = cv2.Canny(gray_image, 30, 200)\n",
    "\n",
    "# Display the edges\n",
    "cv2.imshow(\"Edged Image\", edged)\n",
    "cv2.waitKey(0)"
   ]
  },
  {
   "cell_type": "markdown",
   "metadata": {},
   "source": [
    "## 🌀 Step 5: Find and Visualize Contours\n",
    "\n",
    "Contours represent the boundaries of objects. We detect and draw all the contours found in the image. 🎯\n"
   ]
  },
  {
   "cell_type": "code",
   "execution_count": 17,
   "metadata": {},
   "outputs": [
    {
     "data": {
      "text/plain": [
       "13"
      ]
     },
     "execution_count": 17,
     "metadata": {},
     "output_type": "execute_result"
    }
   ],
   "source": [
    "# Detect contours\n",
    "cnts, _ = cv2.findContours(edged.copy(), cv2.RETR_LIST, cv2.CHAIN_APPROX_SIMPLE)\n",
    "\n",
    "# Create a copy of the original image for visualization\n",
    "image1 = image.copy()\n",
    "\n",
    "# Draw all contours\n",
    "cv2.drawContours(image1, cnts, -1, (0, 255, 0), 3)\n",
    "\n",
    "# Display the contours\n",
    "cv2.imshow(\"Contours\", image1)\n",
    "cv2.waitKey(0)"
   ]
  },
  {
   "cell_type": "markdown",
   "metadata": {},
   "source": [
    "## 🏅 Step 6: Filter and Sort Contours\n",
    "\n",
    "We sort the contours by size and select the largest ones to focus on potential license plate regions. 🛂"
   ]
  },
  {
   "cell_type": "code",
   "execution_count": 18,
   "metadata": {},
   "outputs": [
    {
     "data": {
      "text/plain": [
       "13"
      ]
     },
     "execution_count": 18,
     "metadata": {},
     "output_type": "execute_result"
    }
   ],
   "source": [
    "# Sort contours by area and keep the largest 30\n",
    "cnts = sorted(cnts, key=cv2.contourArea, reverse=True)[:30]\n",
    "screenCnt = None  # To store the final license plate contour\n",
    "\n",
    "# Visualize the top 30 contours\n",
    "image2 = image.copy()\n",
    "cv2.drawContours(image2, cnts, -1, (0, 255, 0), 3)\n",
    "\n",
    "# Display the top 30 contours\n",
    "cv2.imshow(\"Top 30 Contours\", image2)\n",
    "cv2.waitKey(0)"
   ]
  },
  {
   "cell_type": "markdown",
   "metadata": {},
   "source": [
    "## 🧩 Step 7: Detect and Extract the License Plate\n",
    "\n",
    "From the filtered contours, we detect a rectangular region (license plate). The detected area is cropped and saved for further analysis. 🔑"
   ]
  },
  {
   "cell_type": "code",
   "execution_count": 19,
   "metadata": {},
   "outputs": [],
   "source": [
    "# Loop through the contours to find a rectangular one (license plate)\n",
    "i = 7  # Counter for saving images\n",
    "for c in cnts:\n",
    "    # Calculate the perimeter of the contour\n",
    "    perimeter = cv2.arcLength(c, True)\n",
    "    \n",
    "    # Approximate the contour to a polygon\n",
    "    approx = cv2.approxPolyDP(c, 0.018 * perimeter, True)\n",
    "    \n",
    "    # Check if the polygon has 4 corners\n",
    "    if len(approx) == 4:\n",
    "        screenCnt = approx\n",
    "        \n",
    "        # Get the bounding rectangle of the contour\n",
    "        x, y, w, h = cv2.boundingRect(c)\n",
    "        \n",
    "        # Crop the license plate from the image\n",
    "        new_img = image[y:y+h, x:x+w]\n",
    "        \n",
    "        # Save the cropped license plate\n",
    "        cv2.imwrite('./' + str(i) + '.png', new_img)\n",
    "        i += 1\n",
    "        break\n"
   ]
  },
  {
   "cell_type": "markdown",
   "metadata": {},
   "source": [
    "## 🎯 Step 8: Visualize the Detected License Plate\n",
    "\n",
    "Let’s draw the detected license plate on the original image to confirm the results. 🚘"
   ]
  },
  {
   "cell_type": "code",
   "execution_count": 20,
   "metadata": {},
   "outputs": [],
   "source": [
    "# Draw the detected license plate contour on the image\n",
    "cv2.drawContours(image, [screenCnt], -1, (0, 255, 0), 3)\n",
    "\n",
    "# Display the final image with the license plate highlighted\n",
    "cv2.imshow(\"Detected License Plate\", image)\n",
    "cv2.waitKey(0)\n",
    "\n",
    "# Close all OpenCV windows\n",
    "cv2.destroyAllWindows()"
   ]
  },
  {
   "cell_type": "markdown",
   "metadata": {},
   "source": [
    "# 📜 Conclusion\n",
    "\n",
    "Congratulations! 🎉 We have successfully detected and extracted the license plate from the input image using **OpenCV** and **Pytesseract**. This process can be further extended for automatic number plate recognition (ANPR) applications."
   ]
  },
  {
   "cell_type": "markdown",
   "metadata": {},
   "source": [
    "# 📋 Summary: Number Plate Detection Workflow\n",
    "\n",
    "- **Step 1: Load Image**  \n",
    "  - Imported the vehicle image and resized it for easier processing.\n",
    "\n",
    "- **Step 2: Convert to Grayscale**  \n",
    "  - Simplified the image by removing color, retaining only intensity values.\n",
    "\n",
    "- **Step 3: Smoothen Image**  \n",
    "  - Applied a bilateral filter to reduce noise while preserving edges.\n",
    "\n",
    "- **Step 4: Edge Detection**  \n",
    "  - Detected sharp changes in intensity to highlight object boundaries using Canny Edge Detection.\n",
    "\n",
    "- **Step 5: Contour Detection**  \n",
    "  - Identified contours in the edge-detected image, which represent object outlines.\n",
    "\n",
    "- **Step 6: Filter Contours**  \n",
    "  - Sorted the contours by size and selected the largest ones to locate potential license plate regions.\n",
    "\n",
    "- **Step 7: License Plate Detection**  \n",
    "  - Isolated the license plate by identifying a rectangular contour with four corners.\n",
    "\n",
    "- **Step 8: Save and Visualize**  \n",
    "  - Cropped the detected license plate and saved it as a separate image.\n",
    "  - Highlighted the detected license plate on the original image for visualization.\n",
    "\n",
    "- **Outcome:** Successfully identified and extracted the license plate region, ready for OCR processing using Pytesseract.\n"
   ]
  }
 ],
 "metadata": {
  "kernelspec": {
   "display_name": "base",
   "language": "python",
   "name": "python3"
  },
  "language_info": {
   "codemirror_mode": {
    "name": "ipython",
    "version": 3
   },
   "file_extension": ".py",
   "mimetype": "text/x-python",
   "name": "python",
   "nbconvert_exporter": "python",
   "pygments_lexer": "ipython3",
   "version": "3.12.4"
  }
 },
 "nbformat": 4,
 "nbformat_minor": 2
}
